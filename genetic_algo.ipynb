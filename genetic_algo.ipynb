{
  "nbformat": 4,
  "nbformat_minor": 0,
  "metadata": {
    "colab": {
      "provenance": []
    },
    "kernelspec": {
      "name": "python3",
      "display_name": "Python 3"
    },
    "language_info": {
      "name": "python"
    }
  },
  "cells": [
    {
      "cell_type": "code",
      "execution_count": null,
      "metadata": {
        "id": "G9JZD6zbSY62"
      },
      "outputs": [],
      "source": []
    },
    {
      "cell_type": "markdown",
      "source": [
        "🌱 Step 1: Import Required Libraries"
      ],
      "metadata": {
        "id": "VYBF73-ZSdMV"
      }
    },
    {
      "cell_type": "code",
      "source": [
        "import random\n",
        "import numpy as np\n"
      ],
      "metadata": {
        "id": "0ApcWVznSf7X"
      },
      "execution_count": 1,
      "outputs": []
    },
    {
      "cell_type": "markdown",
      "source": [
        "👶 Step 2: Create the Initial Population\n"
      ],
      "metadata": {
        "id": "LR1wgrW4SkR4"
      }
    },
    {
      "cell_type": "markdown",
      "source": [
        "We need to create a bunch of random solutions (chromosomes) to start with.\n",
        "\n"
      ],
      "metadata": {
        "id": "T9D9cYWVSmaW"
      }
    },
    {
      "cell_type": "code",
      "source": [
        "def create_population(pop_size, gene_length):\n",
        "    return [np.random.rand(gene_length) for _ in range(pop_size)]\n"
      ],
      "metadata": {
        "id": "izqM516dSn3t"
      },
      "execution_count": 2,
      "outputs": []
    },
    {
      "cell_type": "markdown",
      "source": [
        "Input:\n",
        "\n",
        "pop_size: Number of chromosomes (robots) in the population.\n",
        "\n",
        "gene_length: Number of genes in each chromosome.\n",
        "\n",
        "Output: A list of chromosomes, each a random list of numbers.\n",
        "\n"
      ],
      "metadata": {
        "id": "gwmciCcbSr7B"
      }
    },
    {
      "cell_type": "markdown",
      "source": [
        "🧠 Step 3: Define the Fitness Function\n"
      ],
      "metadata": {
        "id": "8YZBFkNmTe_-"
      }
    },
    {
      "cell_type": "markdown",
      "source": [
        "We need a way to score each chromosome based on how good it is.\n",
        "\n"
      ],
      "metadata": {
        "id": "zhBURv9PTflB"
      }
    },
    {
      "cell_type": "code",
      "source": [
        "def fitness_function(chromosome):\n",
        "    # Simple fitness function: sum of all genes\n",
        "    return sum(chromosome)\n"
      ],
      "metadata": {
        "id": "9s9WCddbTjAT"
      },
      "execution_count": 3,
      "outputs": []
    },
    {
      "cell_type": "markdown",
      "source": [
        "Example: If the goal is to maximize the sum of the genes, this function will reward chromosomes with higher numbers."
      ],
      "metadata": {
        "id": "2FXiGIFfTmCN"
      }
    },
    {
      "cell_type": "markdown",
      "source": [
        "🏆 Step 4: Select the Best Chromosomes (Selection)\n"
      ],
      "metadata": {
        "id": "xcdgrnY9U2Uu"
      }
    },
    {
      "cell_type": "markdown",
      "source": [
        "Choose the fittest chromosomes to be parents.\n",
        "\n"
      ],
      "metadata": {
        "id": "BH8mjI_5U2z5"
      }
    },
    {
      "cell_type": "code",
      "source": [
        "def select_parents(population):\n",
        "    # Sort by fitness (higher is better) and pick the top 50%\n",
        "    sorted_population = sorted(population, key=fitness_function, reverse=True)\n",
        "    return sorted_population[:len(population) // 2]\n"
      ],
      "metadata": {
        "id": "uP3XkAKHTmjN"
      },
      "execution_count": 4,
      "outputs": []
    },
    {
      "cell_type": "markdown",
      "source": [
        "🔀 Step 5: Create New Offspring (Crossover)\n"
      ],
      "metadata": {
        "id": "VTjTbUARU8eP"
      }
    },
    {
      "cell_type": "markdown",
      "source": [
        "Combine the DNA of the parents to create the next generation.\n",
        "\n"
      ],
      "metadata": {
        "id": "i7MJp9OGU8zV"
      }
    },
    {
      "cell_type": "code",
      "source": [
        "def crossover(parent1, parent2):\n",
        "    crossover_point = random.randint(0, len(parent1) - 1)\n",
        "    child = np.concatenate((parent1[:crossover_point], parent2[crossover_point:]))\n",
        "    return child\n"
      ],
      "metadata": {
        "id": "Krvc0xE5U_oD"
      },
      "execution_count": 5,
      "outputs": []
    },
    {
      "cell_type": "markdown",
      "source": [
        "⚡ Step 6: Add Randomness (Mutation)\n"
      ],
      "metadata": {
        "id": "CmBDdDqqVBt2"
      }
    },
    {
      "cell_type": "markdown",
      "source": [
        "Add a little bit of randomness to keep the population diverse.\n"
      ],
      "metadata": {
        "id": "zuijvY12VHbu"
      }
    },
    {
      "cell_type": "code",
      "source": [
        "def mutate(chromosome, mutation_rate=0.1):\n",
        "    for i in range(len(chromosome)):\n",
        "        if random.random() < mutation_rate:\n",
        "            chromosome[i] = random.random()  # Replace with a random number\n",
        "    return chromosome\n",
        "\n"
      ],
      "metadata": {
        "id": "5_kMTvXKVEIf"
      },
      "execution_count": 7,
      "outputs": []
    },
    {
      "cell_type": "markdown",
      "source": [
        "🔄 Step 7: Create the Next Generation\n"
      ],
      "metadata": {
        "id": "eZu4LCW_VMwT"
      }
    },
    {
      "cell_type": "markdown",
      "source": [
        "Combine selection, crossover, and mutation to create the next generation.\n",
        "\n",
        "\n"
      ],
      "metadata": {
        "id": "uFRo8OBeVNLE"
      }
    },
    {
      "cell_type": "code",
      "source": [
        "def create_next_generation(parents, pop_size):\n",
        "    next_generation = []\n",
        "\n",
        "    while len(next_generation) < pop_size:\n",
        "        parent1 = random.choice(parents)\n",
        "        parent2 = random.choice(parents)\n",
        "        child = crossover(parent1, parent2)\n",
        "        child = mutate(child)\n",
        "        next_generation.append(child)\n",
        "\n",
        "    return next_generation\n"
      ],
      "metadata": {
        "id": "MAADxesAVKQ1"
      },
      "execution_count": 8,
      "outputs": []
    },
    {
      "cell_type": "markdown",
      "source": [
        "🚀 Step 8: Run the Genetic Algorithm\n"
      ],
      "metadata": {
        "id": "lzwRjLUMVR8p"
      }
    },
    {
      "cell_type": "code",
      "source": [
        "# Parameters\n",
        "POP_SIZE = 10\n",
        "GENE_LENGTH = 5\n",
        "GENERATIONS = 20\n",
        "\n",
        "# Create the initial population\n",
        "population = create_population(POP_SIZE, GENE_LENGTH)\n",
        "\n",
        "# Run the GA\n",
        "for generation in range(GENERATIONS):\n",
        "    print(f\"Generation {generation+1} Best Fitness: {max(map(fitness_function, population))}\")\n",
        "\n",
        "    # Select the best parents\n",
        "    parents = select_parents(population)\n",
        "\n",
        "    # Create the next generation\n",
        "    population = create_next_generation(parents, POP_SIZE)\n",
        "\n",
        "# Show the best solution\n",
        "best_chromosome = max(population, key=fitness_function)\n",
        "print(\"\\nBest Chromosome:\", best_chromosome)\n",
        "print(\"Best Fitness:\", fitness_function(best_chromosome))\n"
      ],
      "metadata": {
        "colab": {
          "base_uri": "https://localhost:8080/"
        },
        "id": "lbSVFnjQVSp1",
        "outputId": "25efe8a7-733d-435f-8896-aec4c371aa1b"
      },
      "execution_count": 9,
      "outputs": [
        {
          "output_type": "stream",
          "name": "stdout",
          "text": [
            "Generation 1 Best Fitness: 3.2340453918505974\n",
            "Generation 2 Best Fitness: 4.176536883650938\n",
            "Generation 3 Best Fitness: 4.176536883650938\n",
            "Generation 4 Best Fitness: 3.94339428604546\n",
            "Generation 5 Best Fitness: 4.137017794277179\n",
            "Generation 6 Best Fitness: 4.245969846115188\n",
            "Generation 7 Best Fitness: 4.297484942311085\n",
            "Generation 8 Best Fitness: 4.590761597002076\n",
            "Generation 9 Best Fitness: 4.590761597002076\n",
            "Generation 10 Best Fitness: 4.733214060137554\n",
            "Generation 11 Best Fitness: 4.733214060137554\n",
            "Generation 12 Best Fitness: 4.733214060137554\n",
            "Generation 13 Best Fitness: 4.733214060137554\n",
            "Generation 14 Best Fitness: 4.733214060137554\n",
            "Generation 15 Best Fitness: 4.733214060137554\n",
            "Generation 16 Best Fitness: 4.757568002680022\n",
            "Generation 17 Best Fitness: 4.733214060137554\n",
            "Generation 18 Best Fitness: 4.737800203034983\n",
            "Generation 19 Best Fitness: 4.796918673500345\n",
            "Generation 20 Best Fitness: 4.805642327434369\n",
            "\n",
            "Best Chromosome: [0.97021705 0.93461701 0.92422696 0.98884412 0.98773718]\n",
            "Best Fitness: 4.805642327434369\n"
          ]
        }
      ]
    }
  ]
}